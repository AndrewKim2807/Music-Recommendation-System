{
 "cells": [
  {
   "cell_type": "code",
   "execution_count": 2,
   "metadata": {},
   "outputs": [],
   "source": [
    "from pathlib import Path\n",
    "import scipy\n",
    "import pandas as pd"
   ]
  },
  {
   "cell_type": "code",
   "execution_count": 3,
   "metadata": {},
   "outputs": [],
   "source": [
    "def load_user_artists(user_artists_file: Path) -> scipy.sparse.csr_matrix:\n",
    "    user_artists = pd.read_csv(user_artists_file, sep=\"\\t\")\n",
    "    user_artists.set_index([\"userID\", \"artistID\"], inplace=True)\n",
    "    coo = scipy.sparse.coo_matrix(\n",
    "        (\n",
    "            user_artists.weight.astype(float),\n",
    "            (\n",
    "                user_artists.index.get_level_values(0),\n",
    "                user_artists.index.get_level_values(1),\n",
    "            ),\n",
    "        )\n",
    "    )\n",
    "    return coo.tocsr()"
   ]
  },
  {
   "cell_type": "code",
   "execution_count": 4,
   "metadata": {},
   "outputs": [],
   "source": [
    "class ArtistRetriever:\n",
    "    def __init__(self):\n",
    "        self._artists_df = None\n",
    "\n",
    "    def get_artist_name_from_id(self, artist_id: int) -> str:\n",
    "        return self._artists_df.loc[artist_id, \"name\"]\n",
    "\n",
    "    def load_artists(self, artists_file: Path) -> None:\n",
    "        artists_df = pd.read_csv(artists_file, sep=\"\\t\")\n",
    "        artists_df = artists_df.set_index(\"id\")\n",
    "        self._artists_df = artists_df\n",
    "\n"
   ]
  },
  {
   "cell_type": "code",
   "execution_count": 9,
   "metadata": {},
   "outputs": [
    {
     "name": "stdout",
     "output_type": "stream",
     "text": [
      "MALICE MIZER\n"
     ]
    }
   ],
   "source": [
    "if __name__ == \"__main__\":\n",
    "    artist_retriever = ArtistRetriever()\n",
    "    artist_retriever.load_artists(Path(\"../lastfmdata/artists.dat\"))\n",
    "    artist = artist_retriever.get_artist_name_from_id(1) # Can change any number\n",
    "    print(artist)"
   ]
  }
 ],
 "metadata": {
  "kernelspec": {
   "display_name": "Python 3",
   "language": "python",
   "name": "python3"
  },
  "language_info": {
   "codemirror_mode": {
    "name": "ipython",
    "version": 3
   },
   "file_extension": ".py",
   "mimetype": "text/x-python",
   "name": "python",
   "nbconvert_exporter": "python",
   "pygments_lexer": "ipython3",
   "version": "3.10.11"
  }
 },
 "nbformat": 4,
 "nbformat_minor": 2
}
