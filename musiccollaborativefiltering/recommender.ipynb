{
 "cells": [
  {
   "cell_type": "code",
   "execution_count": 4,
   "metadata": {},
   "outputs": [
    {
     "name": "stdout",
     "output_type": "stream",
     "text": [
      "Note: you may need to restart the kernel to use updated packages.\n"
     ]
    },
    {
     "name": "stderr",
     "output_type": "stream",
     "text": [
      "ERROR: Could not find a version that satisfies the requirement musiccollaborativefiltering (from versions: none)\n",
      "ERROR: No matching distribution found for musiccollaborativefiltering\n",
      "\n",
      "[notice] A new release of pip is available: 23.2.1 -> 24.0\n",
      "[notice] To update, run: C:\\Users\\lenovo\\AppData\\Local\\Microsoft\\WindowsApps\\PythonSoftwareFoundation.Python.3.10_qbz5n2kfra8p0\\python.exe -m pip install --upgrade pip\n"
     ]
    }
   ],
   "source": [
    "pip install musiccollaborativefiltering"
   ]
  },
  {
   "cell_type": "code",
   "execution_count": 10,
   "metadata": {},
   "outputs": [
    {
     "ename": "ModuleNotFoundError",
     "evalue": "No module named 'musiccollaborativefiltering'",
     "output_type": "error",
     "traceback": [
      "\u001b[1;31m---------------------------------------------------------------------------\u001b[0m",
      "\u001b[1;31mModuleNotFoundError\u001b[0m                       Traceback (most recent call last)",
      "Cell \u001b[1;32mIn[10], line 5\u001b[0m\n\u001b[0;32m      3\u001b[0m \u001b[38;5;28;01mimport\u001b[39;00m \u001b[38;5;21;01mimplicit\u001b[39;00m\n\u001b[0;32m      4\u001b[0m \u001b[38;5;28;01mimport\u001b[39;00m \u001b[38;5;21;01mscipy\u001b[39;00m\n\u001b[1;32m----> 5\u001b[0m \u001b[38;5;28;01mfrom\u001b[39;00m \u001b[38;5;21;01mmusiccollaborativefiltering\u001b[39;00m\u001b[38;5;21;01m.\u001b[39;00m\u001b[38;5;21;01mdata\u001b[39;00m \u001b[38;5;28;01mimport\u001b[39;00m load_user_artists, ArtistRetriever\n",
      "\u001b[1;31mModuleNotFoundError\u001b[0m: No module named 'musiccollaborativefiltering'"
     ]
    }
   ],
   "source": [
    "from pathlib import Path\n",
    "from typing import Tuple, List\n",
    "import implicit\n",
    "import scipy\n",
    "from musiccollaborativefiltering.data import load_user_artists, ArtistRetriever"
   ]
  },
  {
   "cell_type": "code",
   "execution_count": 7,
   "metadata": {},
   "outputs": [
    {
     "ename": "NameError",
     "evalue": "name 'ArtistRetriever' is not defined",
     "output_type": "error",
     "traceback": [
      "\u001b[1;31m---------------------------------------------------------------------------\u001b[0m",
      "\u001b[1;31mNameError\u001b[0m                                 Traceback (most recent call last)",
      "Cell \u001b[1;32mIn[7], line 1\u001b[0m\n\u001b[1;32m----> 1\u001b[0m \u001b[38;5;28;01mclass\u001b[39;00m \u001b[38;5;21;01mImplicitRecommender\u001b[39;00m:\n\u001b[0;32m      2\u001b[0m     \u001b[38;5;28;01mdef\u001b[39;00m \u001b[38;5;21m__init__\u001b[39m(\n\u001b[0;32m      3\u001b[0m         \u001b[38;5;28mself\u001b[39m,\n\u001b[0;32m      4\u001b[0m         artist_retriever: ArtistRetriever,\n\u001b[0;32m      5\u001b[0m         implicit_model: implicit\u001b[38;5;241m.\u001b[39mrecommender_base\u001b[38;5;241m.\u001b[39mRecommenderBase,\n\u001b[0;32m      6\u001b[0m     ):\n\u001b[0;32m      7\u001b[0m         \u001b[38;5;28mself\u001b[39m\u001b[38;5;241m.\u001b[39martist_retriever \u001b[38;5;241m=\u001b[39m artist_retriever\n",
      "Cell \u001b[1;32mIn[7], line 4\u001b[0m, in \u001b[0;36mImplicitRecommender\u001b[1;34m()\u001b[0m\n\u001b[0;32m      1\u001b[0m \u001b[38;5;28;01mclass\u001b[39;00m \u001b[38;5;21;01mImplicitRecommender\u001b[39;00m:\n\u001b[0;32m      2\u001b[0m     \u001b[38;5;28;01mdef\u001b[39;00m \u001b[38;5;21m__init__\u001b[39m(\n\u001b[0;32m      3\u001b[0m         \u001b[38;5;28mself\u001b[39m,\n\u001b[1;32m----> 4\u001b[0m         artist_retriever: \u001b[43mArtistRetriever\u001b[49m,\n\u001b[0;32m      5\u001b[0m         implicit_model: implicit\u001b[38;5;241m.\u001b[39mrecommender_base\u001b[38;5;241m.\u001b[39mRecommenderBase,\n\u001b[0;32m      6\u001b[0m     ):\n\u001b[0;32m      7\u001b[0m         \u001b[38;5;28mself\u001b[39m\u001b[38;5;241m.\u001b[39martist_retriever \u001b[38;5;241m=\u001b[39m artist_retriever\n\u001b[0;32m      8\u001b[0m         \u001b[38;5;28mself\u001b[39m\u001b[38;5;241m.\u001b[39mimplicit_model \u001b[38;5;241m=\u001b[39m implicit_model\n",
      "\u001b[1;31mNameError\u001b[0m: name 'ArtistRetriever' is not defined"
     ]
    }
   ],
   "source": [
    "class ImplicitRecommender:\n",
    "    def __init__(\n",
    "        self,\n",
    "        artist_retriever: ArtistRetriever,\n",
    "        implicit_model: implicit.recommender_base.RecommenderBase,\n",
    "    ):\n",
    "        self.artist_retriever = artist_retriever\n",
    "        self.implicit_model = implicit_model\n",
    "\n",
    "    def fit(self, user_artists_matrix: scipy.sparse.csr_matrix) -> None:\n",
    "        \"\"\"Fit the model to the user artists matrix.\"\"\"\n",
    "        self.implicit_model.fit(user_artists_matrix)\n",
    "\n",
    "    def recommend(\n",
    "        self,\n",
    "        user_id: int,\n",
    "        user_artists_matrix: scipy.sparse.csr_matrix,\n",
    "        n: int = 10,\n",
    "    ) -> Tuple[List[str], List[float]]:\n",
    "        \"\"\"Return the top n recommendations for the given user.\"\"\"\n",
    "        artist_ids, scores = self.implicit_model.recommend(\n",
    "            user_id, user_artists_matrix[n], N=n\n",
    "        )\n",
    "        artists = [\n",
    "            self.artist_retriever.get_artist_name_from_id(artist_id)\n",
    "            for artist_id in artist_ids\n",
    "        ]\n",
    "        return artists, scores\n",
    "\n"
   ]
  },
  {
   "cell_type": "code",
   "execution_count": 11,
   "metadata": {},
   "outputs": [
    {
     "ename": "NameError",
     "evalue": "name 'load_user_artists' is not defined",
     "output_type": "error",
     "traceback": [
      "\u001b[1;31m---------------------------------------------------------------------------\u001b[0m",
      "\u001b[1;31mNameError\u001b[0m                                 Traceback (most recent call last)",
      "Cell \u001b[1;32mIn[11], line 4\u001b[0m\n\u001b[0;32m      1\u001b[0m \u001b[38;5;28;01mif\u001b[39;00m \u001b[38;5;18m__name__\u001b[39m \u001b[38;5;241m==\u001b[39m \u001b[38;5;124m\"\u001b[39m\u001b[38;5;124m__main__\u001b[39m\u001b[38;5;124m\"\u001b[39m:\n\u001b[0;32m      2\u001b[0m \n\u001b[0;32m      3\u001b[0m     \u001b[38;5;66;03m# load user artists matrix\u001b[39;00m\n\u001b[1;32m----> 4\u001b[0m     user_artists \u001b[38;5;241m=\u001b[39m \u001b[43mload_user_artists\u001b[49m(Path(\u001b[38;5;124m\"\u001b[39m\u001b[38;5;124m../lastfmdata/user_artists.dat\u001b[39m\u001b[38;5;124m\"\u001b[39m))\n\u001b[0;32m      6\u001b[0m     \u001b[38;5;66;03m# instantiate artist retriever\u001b[39;00m\n\u001b[0;32m      7\u001b[0m     artist_retriever \u001b[38;5;241m=\u001b[39m ArtistRetriever()\n",
      "\u001b[1;31mNameError\u001b[0m: name 'load_user_artists' is not defined"
     ]
    }
   ],
   "source": [
    "if __name__ == \"__main__\":\n",
    "\n",
    "    # load user artists matrix\n",
    "    user_artists = load_user_artists(Path(\"../lastfmdata/user_artists.dat\"))\n",
    "\n",
    "    # instantiate artist retriever\n",
    "    artist_retriever = ArtistRetriever()\n",
    "    artist_retriever.load_artists(Path(\"../lastfmdata/artists.dat\"))\n",
    "\n",
    "    # instantiate ALS using implicit\n",
    "    implict_model = implicit.als.AlternatingLeastSquares(\n",
    "        factors=50, iterations=10, regularization=0.01\n",
    "    )\n",
    "\n",
    "    # instantiate recommender, fit, and recommend\n",
    "    recommender = ImplicitRecommender(artist_retriever, implict_model)\n",
    "    recommender.fit(user_artists)\n",
    "    artists, scores = recommender.recommend(2, user_artists, n=5)\n",
    "\n",
    "    # print results\n",
    "    for artist, score in zip(artists, scores):\n",
    "        print(f\"{artist}: {score}\")"
   ]
  }
 ],
 "metadata": {
  "kernelspec": {
   "display_name": "Python 3",
   "language": "python",
   "name": "python3"
  },
  "language_info": {
   "codemirror_mode": {
    "name": "ipython",
    "version": 3
   },
   "file_extension": ".py",
   "mimetype": "text/x-python",
   "name": "python",
   "nbconvert_exporter": "python",
   "pygments_lexer": "ipython3",
   "version": "3.10.11"
  }
 },
 "nbformat": 4,
 "nbformat_minor": 2
}
